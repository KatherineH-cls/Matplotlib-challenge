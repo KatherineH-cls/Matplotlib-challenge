{
 "cells": [
  {
   "cell_type": "markdown",
   "source": [
    "## Observations and Insights "
   ],
   "metadata": {}
  },
  {
   "cell_type": "markdown",
   "source": [],
   "metadata": {}
  },
  {
   "cell_type": "code",
   "execution_count": 49,
   "source": [
    "# Dependencies and Setup\r\n",
    "import matplotlib.pyplot as plt\r\n",
    "import pandas as pd\r\n",
    "import numpy as np\r\n",
    "import scipy.stats as st\r\n",
    "\r\n",
    "# Study data files\r\n",
    "mouse_metadata_path = \"data/Mouse_metadata.csv\"\r\n",
    "study_results_path = \"data/Study_results.csv\"\r\n",
    "\r\n",
    "# Read the mouse data and the study results\r\n",
    "mouse_metadata = pd.read_csv(mouse_metadata_path)\r\n",
    "study_results = pd.read_csv(study_results_path)\r\n",
    "\r\n",
    "# Combine the data into a single dataset\r\n",
    "mouse_results = pd.merge(mouse_metadata, study_results, how=\"inner\", on = [\"Mouse ID\"])\r\n",
    "\r\n",
    "# Display the data table for preview\r\n",
    "mouse_results.head()\r\n"
   ],
   "outputs": [
    {
     "output_type": "execute_result",
     "data": {
      "text/plain": [
       "  Mouse ID Drug Regimen   Sex  Age_months  Weight (g)  Timepoint  \\\n",
       "0     k403     Ramicane  Male          21          16          0   \n",
       "1     k403     Ramicane  Male          21          16          5   \n",
       "2     k403     Ramicane  Male          21          16         10   \n",
       "3     k403     Ramicane  Male          21          16         15   \n",
       "4     k403     Ramicane  Male          21          16         20   \n",
       "\n",
       "   Tumor Volume (mm3)  Metastatic Sites  \n",
       "0           45.000000                 0  \n",
       "1           38.825898                 0  \n",
       "2           35.014271                 1  \n",
       "3           34.223992                 1  \n",
       "4           32.997729                 1  "
      ],
      "text/html": [
       "<div>\n",
       "<style scoped>\n",
       "    .dataframe tbody tr th:only-of-type {\n",
       "        vertical-align: middle;\n",
       "    }\n",
       "\n",
       "    .dataframe tbody tr th {\n",
       "        vertical-align: top;\n",
       "    }\n",
       "\n",
       "    .dataframe thead th {\n",
       "        text-align: right;\n",
       "    }\n",
       "</style>\n",
       "<table border=\"1\" class=\"dataframe\">\n",
       "  <thead>\n",
       "    <tr style=\"text-align: right;\">\n",
       "      <th></th>\n",
       "      <th>Mouse ID</th>\n",
       "      <th>Drug Regimen</th>\n",
       "      <th>Sex</th>\n",
       "      <th>Age_months</th>\n",
       "      <th>Weight (g)</th>\n",
       "      <th>Timepoint</th>\n",
       "      <th>Tumor Volume (mm3)</th>\n",
       "      <th>Metastatic Sites</th>\n",
       "    </tr>\n",
       "  </thead>\n",
       "  <tbody>\n",
       "    <tr>\n",
       "      <th>0</th>\n",
       "      <td>k403</td>\n",
       "      <td>Ramicane</td>\n",
       "      <td>Male</td>\n",
       "      <td>21</td>\n",
       "      <td>16</td>\n",
       "      <td>0</td>\n",
       "      <td>45.000000</td>\n",
       "      <td>0</td>\n",
       "    </tr>\n",
       "    <tr>\n",
       "      <th>1</th>\n",
       "      <td>k403</td>\n",
       "      <td>Ramicane</td>\n",
       "      <td>Male</td>\n",
       "      <td>21</td>\n",
       "      <td>16</td>\n",
       "      <td>5</td>\n",
       "      <td>38.825898</td>\n",
       "      <td>0</td>\n",
       "    </tr>\n",
       "    <tr>\n",
       "      <th>2</th>\n",
       "      <td>k403</td>\n",
       "      <td>Ramicane</td>\n",
       "      <td>Male</td>\n",
       "      <td>21</td>\n",
       "      <td>16</td>\n",
       "      <td>10</td>\n",
       "      <td>35.014271</td>\n",
       "      <td>1</td>\n",
       "    </tr>\n",
       "    <tr>\n",
       "      <th>3</th>\n",
       "      <td>k403</td>\n",
       "      <td>Ramicane</td>\n",
       "      <td>Male</td>\n",
       "      <td>21</td>\n",
       "      <td>16</td>\n",
       "      <td>15</td>\n",
       "      <td>34.223992</td>\n",
       "      <td>1</td>\n",
       "    </tr>\n",
       "    <tr>\n",
       "      <th>4</th>\n",
       "      <td>k403</td>\n",
       "      <td>Ramicane</td>\n",
       "      <td>Male</td>\n",
       "      <td>21</td>\n",
       "      <td>16</td>\n",
       "      <td>20</td>\n",
       "      <td>32.997729</td>\n",
       "      <td>1</td>\n",
       "    </tr>\n",
       "  </tbody>\n",
       "</table>\n",
       "</div>"
      ]
     },
     "metadata": {},
     "execution_count": 49
    }
   ],
   "metadata": {}
  },
  {
   "cell_type": "code",
   "execution_count": 50,
   "source": [
    "# quick look at files to determine if correct merge was used, look at data types etc\r\n",
    "print(mouse_metadata.info())\r\n",
    "print()\r\n",
    "print(study_results.info())\r\n",
    "print()\r\n",
    "print(mouse_results.info())"
   ],
   "outputs": [
    {
     "output_type": "stream",
     "name": "stdout",
     "text": [
      "<class 'pandas.core.frame.DataFrame'>\n",
      "RangeIndex: 249 entries, 0 to 248\n",
      "Data columns (total 5 columns):\n",
      " #   Column        Non-Null Count  Dtype \n",
      "---  ------        --------------  ----- \n",
      " 0   Mouse ID      249 non-null    object\n",
      " 1   Drug Regimen  249 non-null    object\n",
      " 2   Sex           249 non-null    object\n",
      " 3   Age_months    249 non-null    int64 \n",
      " 4   Weight (g)    249 non-null    int64 \n",
      "dtypes: int64(2), object(3)\n",
      "memory usage: 9.9+ KB\n",
      "None\n",
      "\n",
      "<class 'pandas.core.frame.DataFrame'>\n",
      "RangeIndex: 1893 entries, 0 to 1892\n",
      "Data columns (total 4 columns):\n",
      " #   Column              Non-Null Count  Dtype  \n",
      "---  ------              --------------  -----  \n",
      " 0   Mouse ID            1893 non-null   object \n",
      " 1   Timepoint           1893 non-null   int64  \n",
      " 2   Tumor Volume (mm3)  1893 non-null   float64\n",
      " 3   Metastatic Sites    1893 non-null   int64  \n",
      "dtypes: float64(1), int64(2), object(1)\n",
      "memory usage: 59.3+ KB\n",
      "None\n",
      "\n",
      "<class 'pandas.core.frame.DataFrame'>\n",
      "Int64Index: 1893 entries, 0 to 1892\n",
      "Data columns (total 8 columns):\n",
      " #   Column              Non-Null Count  Dtype  \n",
      "---  ------              --------------  -----  \n",
      " 0   Mouse ID            1893 non-null   object \n",
      " 1   Drug Regimen        1893 non-null   object \n",
      " 2   Sex                 1893 non-null   object \n",
      " 3   Age_months          1893 non-null   int64  \n",
      " 4   Weight (g)          1893 non-null   int64  \n",
      " 5   Timepoint           1893 non-null   int64  \n",
      " 6   Tumor Volume (mm3)  1893 non-null   float64\n",
      " 7   Metastatic Sites    1893 non-null   int64  \n",
      "dtypes: float64(1), int64(4), object(3)\n",
      "memory usage: 133.1+ KB\n",
      "None\n"
     ]
    }
   ],
   "metadata": {}
  },
  {
   "cell_type": "code",
   "execution_count": 51,
   "source": [
    "# Checking the number of mice.\r\n",
    "Number_mice = len(mouse_results[\"Mouse ID\"].unique())\r\n",
    "Number_mice\r\n"
   ],
   "outputs": [
    {
     "output_type": "execute_result",
     "data": {
      "text/plain": [
       "249"
      ]
     },
     "metadata": {},
     "execution_count": 51
    }
   ],
   "metadata": {}
  },
  {
   "cell_type": "code",
   "execution_count": 52,
   "source": [
    "# Getting the duplicate mice by ID number that shows up for Mouse ID and Timepoint. \r\n",
    "duplicate_micedata = mouse_results.loc[mouse_results.duplicated([\"Mouse ID\", \"Timepoint\"])]\r\n",
    "\r\n",
    "\r\n",
    "\r\n"
   ],
   "outputs": [],
   "metadata": {}
  },
  {
   "cell_type": "code",
   "execution_count": 53,
   "source": [
    "# Optional: Get all the data for the duplicate mouse ID. \r\n",
    "print(duplicate_micedata)\r\n"
   ],
   "outputs": [
    {
     "output_type": "stream",
     "name": "stdout",
     "text": [
      "    Mouse ID Drug Regimen     Sex  Age_months  Weight (g)  Timepoint  \\\n",
      "909     g989     Propriva  Female          21          26          0   \n",
      "911     g989     Propriva  Female          21          26          5   \n",
      "913     g989     Propriva  Female          21          26         10   \n",
      "915     g989     Propriva  Female          21          26         15   \n",
      "917     g989     Propriva  Female          21          26         20   \n",
      "\n",
      "     Tumor Volume (mm3)  Metastatic Sites  \n",
      "909           45.000000                 0  \n",
      "911           47.570392                 0  \n",
      "913           49.880528                 0  \n",
      "915           53.442020                 0  \n",
      "917           54.657650                 1  \n"
     ]
    }
   ],
   "metadata": {}
  },
  {
   "cell_type": "code",
   "execution_count": 54,
   "source": [
    "# Create a clean DataFrame by dropping the duplicate mouse by its ID.\r\n",
    "clean_mouse_results = mouse_results.drop_duplicates(subset = [\"Mouse ID\", \"Timepoint\"], keep = 'first')"
   ],
   "outputs": [],
   "metadata": {}
  },
  {
   "cell_type": "code",
   "execution_count": 55,
   "source": [
    "# Checking the number of mice in the clean DataFrame.\r\n",
    "print(clean_mouse_results.info())\r\n",
    "print()\r\n",
    "print(len(clean_mouse_results[\"Mouse ID\"].unique()))\r\n"
   ],
   "outputs": [
    {
     "output_type": "stream",
     "name": "stdout",
     "text": [
      "<class 'pandas.core.frame.DataFrame'>\n",
      "Int64Index: 1888 entries, 0 to 1892\n",
      "Data columns (total 8 columns):\n",
      " #   Column              Non-Null Count  Dtype  \n",
      "---  ------              --------------  -----  \n",
      " 0   Mouse ID            1888 non-null   object \n",
      " 1   Drug Regimen        1888 non-null   object \n",
      " 2   Sex                 1888 non-null   object \n",
      " 3   Age_months          1888 non-null   int64  \n",
      " 4   Weight (g)          1888 non-null   int64  \n",
      " 5   Timepoint           1888 non-null   int64  \n",
      " 6   Tumor Volume (mm3)  1888 non-null   float64\n",
      " 7   Metastatic Sites    1888 non-null   int64  \n",
      "dtypes: float64(1), int64(4), object(3)\n",
      "memory usage: 132.8+ KB\n",
      "None\n",
      "\n",
      "249\n"
     ]
    }
   ],
   "metadata": {}
  },
  {
   "cell_type": "markdown",
   "source": [
    "## Summary Statistics"
   ],
   "metadata": {}
  },
  {
   "cell_type": "code",
   "execution_count": 56,
   "source": [
    "# Generate a summary statistics table of mean, median, variance, standard deviation, and SEM of the tumor volume for each regimen\r\n",
    "\r\n",
    "# This method is the most straighforward, creating multiple series and putting them all together at the end.\r\n",
    "\r\n"
   ],
   "outputs": [],
   "metadata": {}
  },
  {
   "cell_type": "code",
   "execution_count": 57,
   "source": [
    "# Generate a summary statistics table of mean, median, variance, standard deviation, and SEM of the tumor volume for each regimen\r\n",
    "\r\n",
    "# This method produces everything in a single groupby function\r\n",
    "\r\n",
    "tumor_regimen_mean = clean_mouse_results.groupby(\"Drug Regimen\")[\"Tumor Volume (mm3)\"].mean()\r\n",
    "tumor_regimen_mean = tumor_regimen_mean.rename(\"mean\")\r\n",
    "\r\n",
    "tumor_regimen_median = clean_mouse_results.groupby(\"Drug Regimen\")[\"Tumor Volume (mm3)\"].median()\r\n",
    "tumor_regimen_median = tumor_regimen_mean.rename(\"median\")\r\n",
    "\r\n",
    "tumor_regimen_var = clean_mouse_results.groupby(\"Drug Regimen\")[\"Tumor Volume (mm3)\"].var()\r\n",
    "tumor_regimen_var = tumor_regimen_mean.rename(\"var\")\r\n",
    "\r\n",
    "tumor_regimen_std = clean_mouse_results.groupby(\"Drug Regimen\")[\"Tumor Volume (mm3)\"].std()\r\n",
    "tumor_regimen_std = tumor_regimen_mean.rename(\"std\")\r\n",
    "\r\n",
    "tumor_regimen_sem = clean_mouse_results.groupby(\"Drug Regimen\")[\"Tumor Volume (mm3)\"].sem()\r\n",
    "tumor_regimen_sem = tumor_regimen_mean.rename(\"sem\")\r\n",
    "\r\n",
    "tumor_by_regimen = pd.concat([tumor_regimen_mean, tumor_regimen_median, tumor_regimen_var, tumor_regimen_std, tumor_regimen_sem], axis = 1 )\r\n",
    "\r\n",
    "print(tumor_by_regimen)\r\n",
    "\r\n"
   ],
   "outputs": [
    {
     "output_type": "stream",
     "name": "stdout",
     "text": [
      "                   mean     median        var        std        sem\n",
      "Drug Regimen                                                       \n",
      "Capomulin     40.675741  40.675741  40.675741  40.675741  40.675741\n",
      "Ceftamin      52.591172  52.591172  52.591172  52.591172  52.591172\n",
      "Infubinol     52.884795  52.884795  52.884795  52.884795  52.884795\n",
      "Ketapril      55.235638  55.235638  55.235638  55.235638  55.235638\n",
      "Naftisol      54.331565  54.331565  54.331565  54.331565  54.331565\n",
      "Placebo       54.033581  54.033581  54.033581  54.033581  54.033581\n",
      "Propriva      52.393463  52.393463  52.393463  52.393463  52.393463\n",
      "Ramicane      40.216745  40.216745  40.216745  40.216745  40.216745\n",
      "Stelasyn      54.233149  54.233149  54.233149  54.233149  54.233149\n",
      "Zoniferol     53.236507  53.236507  53.236507  53.236507  53.236507\n"
     ]
    }
   ],
   "metadata": {}
  },
  {
   "cell_type": "markdown",
   "source": [
    "## Bar and Pie Charts"
   ],
   "metadata": {}
  },
  {
   "cell_type": "code",
   "execution_count": 70,
   "source": [
    "# Generate a bar plot showing the total number of mice for each treatment throughout the course of the study using pandas. \r\n",
    "\r\n",
    "# collate data\r\n",
    "treatments = clean_mouse_results.groupby([\"Drug Regimen\"])[\"Mouse ID\"].count()\r\n",
    "\r\n",
    "# plot titles\r\n",
    "plot_title = (\"Number of mice per treatment\")\r\n",
    "\r\n",
    "# create chart\r\n",
    "treatment_chart = treatments.plot(kind = \"barh\", color = \"blue\", alpha = 0.75, title = plot_title)\r\n",
    "\r\n",
    "# modify chart appearance\r\n",
    "treatment_chart.set_xlabel(\"Number of mice\")\r\n",
    "treatment_chart.set_xlim(0, max(treatments)+25)\r\n",
    "treatment_chart.set_ylim(-1,len(treatments))\r\n"
   ],
   "outputs": [
    {
     "output_type": "execute_result",
     "data": {
      "text/plain": [
       "(-1.0, 10.0)"
      ]
     },
     "metadata": {},
     "execution_count": 70
    },
    {
     "output_type": "display_data",
     "data": {
      "text/plain": [
       "<Figure size 432x288 with 1 Axes>"
      ],
      "image/png": "[encoded data removed]"
     },
     "metadata": {
      "needs_background": "light"
     }
    }
   ],
   "metadata": {}
  },
  {
   "cell_type": "code",
   "execution_count": 59,
   "source": [
    "# Generate a bar plot showing the total number of mice for each treatment throughout the course of the study using pyplot.\r\n",
    "# use data from previous cell\r\n",
    "plt.barh(treatments.index.tolist(), treatments, facecolor=\"blue\", alpha=0.75, align=\"center\", height = 0.5)\r\n",
    "\r\n",
    "# add tick marks\r\n",
    "y_axis = np.arange(0, len(treatments))\r\n",
    "tick_locations = []\r\n",
    "for y in y_axis:\r\n",
    "    tick_locations.append(y)\r\n",
    "plt.yticks(tick_locations, treatments.index.tolist())\r\n",
    "\r\n",
    "# add titles and labels\r\n",
    "plt.title(\"Number of mice per treatment\")\r\n",
    "plt.xlabel(\"Number of Mice\")\r\n",
    "plt.ylabel(\"Drug Regimen\")\r\n",
    "\r\n",
    "# modify x & y lims\r\n",
    "plt.xlim(0, max(treatments)+25)\r\n",
    "plt.ylim(-1,len(treatments) )\r\n",
    "\r\n",
    "plt.show()\r\n"
   ],
   "outputs": [
    {
     "output_type": "display_data",
     "data": {
      "text/plain": [
       "<Figure size 432x288 with 1 Axes>"
      ],
      "image/png": "[encoded data removed]"
     },
     "metadata": {
      "needs_background": "light"
     }
    }
   ],
   "metadata": {}
  },
  {
   "cell_type": "code",
   "execution_count": 60,
   "source": [
    "# Generate a pie plot showing the distribution of female versus male mice using pandas\r\n",
    "\r\n",
    "# get data for plot\r\n",
    "mf_dist = clean_mouse_results.groupby([\"Sex\"])[\"Mouse ID\"].count()\r\n",
    "\r\n",
    "# choose colours for female / male\r\n",
    "colors = [\"rebeccapurple\", \"lightseagreen\"]\r\n",
    "\r\n",
    "# add title\r\n",
    "plot_title = (\"Distribution of Male and Female Mice\")\r\n",
    "\r\n",
    "# draw pie plot\r\n",
    "mf_chart = mf_dist.plot(kind = \"pie\", startangle = 90, colors = colors, autopct=\"%1.1f%%\", title = plot_title)\r\n",
    "\r\n",
    "# remove unnecessary ylabel\r\n",
    "mf_chart.set_ylabel('')\r\n",
    "\r\n",
    "mf_chart\r\n"
   ],
   "outputs": [
    {
     "output_type": "execute_result",
     "data": {
      "text/plain": [
       "<matplotlib.axes._subplots.AxesSubplot at 0x1b909124f98>"
      ]
     },
     "metadata": {},
     "execution_count": 60
    },
    {
     "output_type": "display_data",
     "data": {
      "text/plain": [
       "<Figure size 432x288 with 1 Axes>"
      ],
      "image/png": "[encoded data removed]"
     },
     "metadata": {}
    }
   ],
   "metadata": {}
  },
  {
   "cell_type": "code",
   "execution_count": 61,
   "source": [
    "# Generate a pie plot showing the distribution of female versus male mice using pyplot\r\n",
    "colors = [\"rebeccapurple\", \"lightseagreen\"]\r\n",
    "plt.pie(mf_dist, labels = mf_dist.index.tolist(), colors = colors, startangle = 90, autopct=\"%1.1f%%\")\r\n",
    "plt.axis(\"equal\")\r\n",
    "plt.title(\"Distribution of Male and Female Mice\")\r\n",
    "plt.show()\r\n",
    "\r\n"
   ],
   "outputs": [
    {
     "output_type": "display_data",
     "data": {
      "text/plain": [
       "<Figure size 432x288 with 1 Axes>"
      ],
      "image/png": "[encoded data removed]"
     },
     "metadata": {}
    }
   ],
   "metadata": {}
  },
  {
   "cell_type": "markdown",
   "source": [
    "## Quartiles, Outliers and Boxplots"
   ],
   "metadata": {}
  },
  {
   "cell_type": "code",
   "execution_count": 62,
   "source": [
    "# Calculate the final tumor volume of each mouse across four of the treatment regimens:  \r\n",
    "# Capomulin, Ramicane, Infubinol, and Ceftamin\r\n",
    "cric = clean_mouse_results.loc[clean_mouse_results[\"Drug Regimen\"].isin([\"Capomulin\", \"Ramicane\", \"Infubinol\", \"Ceftamin\"])]\r\n",
    "\r\n",
    "# Start by getting the last (greatest) timepoint for each mouse\r\n",
    "# Merge this group df with the original dataframe to get the tumor volume at the last timepoint\r\n",
    "\r\n",
    "cric = cric.sort_values([\"Drug Regimen\", \"Mouse ID\", \"Timepoint\"], ascending=[True, True, True])\r\n",
    "final_tumor_volume = cric.groupby([\"Drug Regimen\", \"Mouse ID\"])[\"Tumor Volume (mm3)\"].last()\r\n",
    "print(final_tumor_volume)\r\n"
   ],
   "outputs": [
    {
     "output_type": "stream",
     "name": "stdout",
     "text": [
      "Drug Regimen  Mouse ID\n",
      "Capomulin     b128        38.982878\n",
      "              b742        38.939633\n",
      "              f966        30.485985\n",
      "              g288        37.074024\n",
      "              g316        40.159220\n",
      "                            ...    \n",
      "Ramicane      s508        30.276232\n",
      "              u196        40.667713\n",
      "              w678        43.166373\n",
      "              y449        44.183451\n",
      "              z578        30.638696\n",
      "Name: Tumor Volume (mm3), Length: 100, dtype: float64\n"
     ]
    }
   ],
   "metadata": {}
  },
  {
   "cell_type": "code",
   "execution_count": 63,
   "source": [
    "# Put treatments into a list for for loop (and later for plot labels)\r\n",
    "# Create empty list to fill with tumor vol data (for plotting)\r\n",
    "# Calculate the IQR and quantitatively determine if there are any potential outliers. \r\n",
    " \r\n",
    "    # Locate the rows which contain mice on each drug and get the tumor volumes\r\n",
    "      \r\n",
    "    # add subset \r\n",
    "        \r\n",
    "    # Determine outliers using upper and lower bounds\r\n",
    "\r\n",
    "\r\n",
    "# split cric into 4 separate series\r\n",
    "capo_final = final_tumor_volume[\"Capomulin\"]\r\n",
    "rami_final = final_tumor_volume[\"Ramicane\"]\r\n",
    "infu_final = final_tumor_volume[\"Infubinol\"]\r\n",
    "ceft_final = final_tumor_volume[\"Ceftamin\"]\r\n",
    "\r\n",
    "# calculate IQR and outliers for capo\r\n",
    "quartiles = capo_final.quantile([.25,.5,.75])\r\n",
    "lowerq = quartiles[0.25]\r\n",
    "upperq = quartiles[0.75]\r\n",
    "iqr = upperq-lowerq\r\n",
    "\r\n",
    "print(f\"The lower quartile of final tumor volume for Capomulin is: {round(lowerq, 2)}  (mm3)\")\r\n",
    "print(f\"The upper quartile of final tumor volume for Capomulin is: {round(upperq, 2)} (mm3)\")\r\n",
    "print(f\"The interquartile range of final tumor volume for Capomulin is: {round(iqr, 2)} (mm3)\")\r\n",
    "print(f\"The median of final tumor volume for Capomulin is: {round(quartiles[0.5], 2)} (mm3)\")\r\n",
    "\r\n",
    "lower_bound = lowerq - (1.5*iqr)\r\n",
    "upper_bound = upperq + (1.5*iqr)\r\n",
    "print(f\"Values below {round(lower_bound, 2)} could be outliers.\")\r\n",
    "print(f\"Values above {round(upper_bound, 2)} could be outliers.\")\r\n",
    "print()\r\n",
    "\r\n",
    "# calculate IQR and outliers for rami\r\n",
    "quartiles = rami_final.quantile([.25,.5,.75])\r\n",
    "lowerq = quartiles[0.25]\r\n",
    "upperq = quartiles[0.75]\r\n",
    "iqr = upperq-lowerq\r\n",
    "\r\n",
    "print(f\"The lower quartile of final tumor volume for Ramicane is: {round(lowerq, 2)}  (mm3)\")\r\n",
    "print(f\"The upper quartile of final tumor volume for Ramicane is: {round(upperq, 2)} (mm3)\")\r\n",
    "print(f\"The interquartile range of final tumor volume for Ramicane is: {round(iqr, 2)} (mm3)\")\r\n",
    "print(f\"The median of final tumor volume for Ramicane is: {round(quartiles[0.5], 2)} (mm3)\")\r\n",
    "\r\n",
    "lower_bound = lowerq - (1.5*iqr)\r\n",
    "upper_bound = upperq + (1.5*iqr)\r\n",
    "print(f\"Values below {round(lower_bound, 2)} could be outliers.\")\r\n",
    "print(f\"Values above {round(upper_bound, 2)} could be outliers.\")\r\n",
    "print()\r\n",
    "\r\n",
    "# calculate IQR and outliers for infu\r\n",
    "quartiles = infu_final.quantile([.25,.5,.75])\r\n",
    "lowerq = quartiles[0.25]\r\n",
    "upperq = quartiles[0.75]\r\n",
    "iqr = upperq-lowerq\r\n",
    "\r\n",
    "print(f\"The lower quartile of final tumor volume for Infubinol is: {round(lowerq, 2)}  (mm3)\")\r\n",
    "print(f\"The upper quartile of final tumor volume for Infubinol is: {round(upperq, 2)} (mm3)\")\r\n",
    "print(f\"The interquartile range of final tumor volume for Infubinol is: {round(iqr, 2)} (mm3)\")\r\n",
    "print(f\"The median of final tumor volume for Infubinol is: {round(quartiles[0.5], 2)} (mm3)\")\r\n",
    "\r\n",
    "lower_bound = lowerq - (1.5*iqr)\r\n",
    "upper_bound = upperq + (1.5*iqr)\r\n",
    "print(f\"Values below {round(lower_bound, 2)} could be outliers.\")\r\n",
    "print(f\"Values above {round(upper_bound, 2)} could be outliers.\")\r\n",
    "print()\r\n",
    "\r\n",
    "# calculate IQR and outliers for ceft\r\n",
    "quartiles = ceft_final.quantile([.25,.5,.75])\r\n",
    "lowerq = quartiles[0.25]\r\n",
    "upperq = quartiles[0.75]\r\n",
    "iqr = upperq-lowerq\r\n",
    "\r\n",
    "print(f\"The lower quartile of final tumor volume for Ceftamin is: {round(lowerq, 2)}  (mm3)\")\r\n",
    "print(f\"The upper quartile of final tumor volume for Ceftamin is: {round(upperq, 2)} (mm3)\")\r\n",
    "print(f\"The interquartile range of final tumor volume for Ceftamin is: {round(iqr, 2)} (mm3)\")\r\n",
    "print(f\"The median of final tumor volume for Ceftamin is: {round(quartiles[0.5], 2)} (mm3)\")\r\n",
    "\r\n",
    "lower_bound = lowerq - (1.5*iqr)\r\n",
    "upper_bound = upperq + (1.5*iqr)\r\n",
    "print(f\"Values below {round(lower_bound, 2)} could be outliers.\")\r\n",
    "print(f\"Values above {round(upper_bound, 2)} could be outliers.\")\r\n",
    "print()"
   ],
   "outputs": [
    {
     "output_type": "stream",
     "name": "stdout",
     "text": [
      "The lower quartile of final tumor volume for Capomulin is: 32.38  (mm3)\n",
      "The upper quartile of final tumor volume for Capomulin is: 40.16 (mm3)\n",
      "The interquartile range of final tumor volume for Capomulin is: 7.78 (mm3)\n",
      "The median of final tumor volume for Capomulin is: 38.13 (mm3)\n",
      "Values below 20.7 could be outliers.\n",
      "Values above 51.83 could be outliers.\n",
      "\n",
      "The lower quartile of final tumor volume for Ramicane is: 31.56  (mm3)\n",
      "The upper quartile of final tumor volume for Ramicane is: 40.66 (mm3)\n",
      "The interquartile range of final tumor volume for Ramicane is: 9.1 (mm3)\n",
      "The median of final tumor volume for Ramicane is: 36.56 (mm3)\n",
      "Values below 17.91 could be outliers.\n",
      "Values above 54.31 could be outliers.\n",
      "\n",
      "The lower quartile of final tumor volume for Infubinol is: 54.05  (mm3)\n",
      "The upper quartile of final tumor volume for Infubinol is: 65.53 (mm3)\n",
      "The interquartile range of final tumor volume for Infubinol is: 11.48 (mm3)\n",
      "The median of final tumor volume for Infubinol is: 60.17 (mm3)\n",
      "Values below 36.83 could be outliers.\n",
      "Values above 82.74 could be outliers.\n",
      "\n",
      "The lower quartile of final tumor volume for Ceftamin is: 48.72  (mm3)\n",
      "The upper quartile of final tumor volume for Ceftamin is: 64.3 (mm3)\n",
      "The interquartile range of final tumor volume for Ceftamin is: 15.58 (mm3)\n",
      "The median of final tumor volume for Ceftamin is: 59.85 (mm3)\n",
      "Values below 25.36 could be outliers.\n",
      "Values above 87.67 could be outliers.\n",
      "\n"
     ]
    }
   ],
   "metadata": {}
  },
  {
   "cell_type": "code",
   "execution_count": 69,
   "source": [
    "# Generate a box plot of the final tumor volume of each mouse across four regimens of interest\r\n",
    "fig, ax = plt.subplots()\r\n",
    "\r\n",
    "ax.boxplot([capo_final, rami_final, infu_final, ceft_final])\r\n",
    "\r\n",
    "ax.set_title(\"Distribution of final tumor volume by drug regime\")\r\n",
    "ax.set_xticklabels([\"Capomulin\", \"Ramicane\", \"Infubinol\", \"Ceftamin\"])\r\n",
    "ax.set_ylabel(\"Final tumor volume (mm3)\")\r\n",
    "\r\n",
    "plt.style.use(\"seaborn-colorblind\")\r\n",
    "\r\n",
    "plt.show()\r\n",
    "\r\n"
   ],
   "outputs": [
    {
     "output_type": "display_data",
     "data": {
      "text/plain": [
       "<Figure size 432x288 with 1 Axes>"
      ],
      "image/png": "[encoded data removed]"
     },
     "metadata": {
      "needs_background": "light"
     }
    }
   ],
   "metadata": {}
  },
  {
   "cell_type": "markdown",
   "source": [
    "## Line and Scatter Plots"
   ],
   "metadata": {}
  },
  {
   "cell_type": "code",
   "execution_count": 65,
   "source": [
    "# get data for mice treated with Capomulin\r\n",
    "capo_results = clean_mouse_results.loc[mouse_results[\"Drug Regimen\"] == \"Capomulin\"]\r\n",
    "\r\n",
    "print(capo_results[\"Mouse ID\"].unique())\r\n",
    "\r\n",
    "# Choose mouse b742\r\n",
    "capo_results_b742 = capo_results.loc[capo_results[\"Mouse ID\"] == 'b742']\r\n",
    "\r\n"
   ],
   "outputs": [
    {
     "output_type": "stream",
     "name": "stdout",
     "text": [
      "['s185' 'x401' 'm601' 'f966' 'u364' 'y793' 'r554' 'm957' 't565' 'i738'\n",
      " 'w914' 'g288' 'l897' 'b742' 'b128' 'j246' 'j119' 'w150' 'v923' 'g316'\n",
      " 's710' 'l509' 'r944' 'i557' 'r157']\n"
     ]
    }
   ],
   "metadata": {}
  },
  {
   "cell_type": "code",
   "execution_count": 66,
   "source": [
    "# Generate a line plot of time point versus tumor volume for a mouse treated with Capomulin\r\n",
    "fig, ax = plt.subplots()\r\n",
    "ax.plot(capo_results_b742[\"Timepoint\"], capo_results_b742[\"Tumor Volume (mm3)\"])\r\n",
    "\r\n",
    "# add titles\r\n",
    "ax.set_title(\"Treatment results for mouse treated with Capomulin \\n (Mouse B742)\")\r\n",
    "ax.set_xlabel(\"Timepoint\")\r\n",
    "ax.set_ylabel(\"Tumor volume (mm3)\")\r\n",
    "ax.set_xlim(0, capo_results_b742[\"Timepoint\"].max() + 5 )\r\n",
    "ax.set_ylim(0, capo_results_b742[\"Tumor Volume (mm3)\"].max() + 5)\r\n",
    "\r\n",
    "plt.style.use(\"seaborn-colorblind\")\r\n",
    "\r\n",
    "plt.show()\r\n"
   ],
   "outputs": [
    {
     "output_type": "display_data",
     "data": {
      "text/plain": [
       "<Figure size 432x288 with 1 Axes>"
      ],
      "image/png": "[encoded data removed]"
     },
     "metadata": {
      "needs_background": "light"
     }
    }
   ],
   "metadata": {}
  },
  {
   "cell_type": "code",
   "execution_count": 67,
   "source": [
    "# Generate a scatter plot of mouse weight versus average tumor volume for the Capomulin regimen\r\n",
    "\r\n",
    "# get data\r\n",
    "capo_avg_vol = capo_results.groupby(\"Timepoint\")[\"Tumor Volume (mm3)\"].mean()\r\n",
    "\r\n",
    "x_axis = capo_avg_vol.index.tolist()\r\n",
    "\r\n",
    "# create chart\r\n",
    "fig, ax = plt.subplots()\r\n",
    "\r\n",
    "ax.scatter(x_axis, capo_avg_vol)\r\n",
    "ax.set_title(\"Average treatment results for mice treated with Capomulin\")\r\n",
    "ax.set_xlabel(\"Timepoint\")\r\n",
    "ax.set_ylabel(\"Tumor volume (mm3)\")\r\n",
    "\r\n",
    "plt.style.use(\"seaborn-colorblind\")\r\n"
   ],
   "outputs": [
    {
     "output_type": "display_data",
     "data": {
      "text/plain": [
       "<Figure size 432x288 with 1 Axes>"
      ],
      "image/png": "[encoded data removed]"
     },
     "metadata": {
      "needs_background": "light"
     }
    }
   ],
   "metadata": {}
  },
  {
   "cell_type": "markdown",
   "source": [
    "## Correlation and Regression"
   ],
   "metadata": {}
  },
  {
   "cell_type": "code",
   "execution_count": 68,
   "source": [
    "# Calculate the correlation coefficient and linear regression model \r\n",
    "# for mouse weight and average tumor volume for the Capomulin regimen\r\n"
   ],
   "outputs": [],
   "metadata": {}
  },
  {
   "cell_type": "code",
   "execution_count": null,
   "source": [],
   "outputs": [],
   "metadata": {}
  },
  {
   "cell_type": "markdown",
   "source": [
    "Observations and Insights - put this at the top"
   ],
   "metadata": {}
  }
 ],
 "metadata": {
  "anaconda-cloud": {},
  "interpreter": {
   "hash": "2cb9b7d5b68f4bfebe37bd14371b74a26c7634c91bad2bd7203be20ef753368a"
  },
  "kernelspec": {
   "display_name": "Python 3.6.10 64-bit ('PythonData': conda)",
   "name": "python3"
  },
  "language_info": {
   "codemirror_mode": {
    "name": "ipython",
    "version": 3
   },
   "file_extension": ".py",
   "mimetype": "text/x-python",
   "name": "python",
   "nbconvert_exporter": "python",
   "pygments_lexer": "ipython3",
   "version": "3.6.10"
  }
 },
 "nbformat": 4,
 "nbformat_minor": 2
}